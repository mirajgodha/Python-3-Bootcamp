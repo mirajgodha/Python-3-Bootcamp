{
 "cells": [
  {
   "cell_type": "markdown",
   "metadata": {},
   "source": [
    "___\n",
    "\n",
    "<a href='https://www.quantumroot.in'><img src='../QuantumRootLogo.png'/></a>\n",
    "___\n",
    "<center><em>Copyright Quantum Root</em></center>\n",
    "<center><em>For more information, visit us at <a href='https://www.quantumroot.in'>https://quantumroot.in</a></em></center>"
   ]
  },
  {
   "cell_type": "markdown",
   "metadata": {
    "collapsed": true,
    "jupyter": {
     "outputs_hidden": true
    }
   },
   "source": [
    "# Introduction to Pandas\n",
    "\n",
    "In this section of the course we will learn how to use pandas for data analysis. You can think of pandas as an **extremely powerful version of Excel**, with a lot more features. In this section of the course, you should go through the notebooks in this order:\n",
    "\n",
    "* Introduction to Pandas\n",
    "* Series\n",
    "* DataFrames\n",
    "* Missing Data\n",
    "* GroupBy\n",
    "* Operations\n",
    "* Data Input and Output"
   ]
  },
  {
   "cell_type": "markdown",
   "metadata": {},
   "source": [
    "___"
   ]
  }
 ],
 "metadata": {
  "kernelspec": {
   "display_name": "Python 3 (ipykernel)",
   "language": "python",
   "name": "python3"
  },
  "language_info": {
   "codemirror_mode": {
    "name": "ipython",
    "version": 3
   },
   "file_extension": ".py",
   "mimetype": "text/x-python",
   "name": "python",
   "nbconvert_exporter": "python",
   "pygments_lexer": "ipython3",
   "version": "3.13.5"
  }
 },
 "nbformat": 4,
 "nbformat_minor": 4
}
